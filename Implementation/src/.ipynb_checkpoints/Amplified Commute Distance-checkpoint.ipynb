{
 "cells": [
  {
   "cell_type": "markdown",
   "metadata": {},
   "source": [
    "Вспомогательные библиотеки"
   ]
  },
  {
   "cell_type": "code",
   "execution_count": 3,
   "metadata": {},
   "outputs": [
    {
     "ename": "ModuleNotFoundError",
     "evalue": "No module named 'start_walrus'",
     "output_type": "error",
     "traceback": [
      "\u001b[1;31m---------------------------------------------------------------------------\u001b[0m",
      "\u001b[1;31mModuleNotFoundError\u001b[0m                       Traceback (most recent call last)",
      "\u001b[1;32m<ipython-input-3-27730d895eb1>\u001b[0m in \u001b[0;36m<module>\u001b[1;34m\u001b[0m\n\u001b[0;32m      2\u001b[0m \u001b[1;32mfrom\u001b[0m \u001b[0mfinal_src\u001b[0m\u001b[1;33m.\u001b[0m\u001b[0mACD_main\u001b[0m \u001b[1;32mimport\u001b[0m \u001b[1;33m*\u001b[0m\u001b[1;33m\u001b[0m\u001b[1;33m\u001b[0m\u001b[0m\n\u001b[0;32m      3\u001b[0m \u001b[1;32mfrom\u001b[0m \u001b[0mfinal_src\u001b[0m\u001b[1;33m.\u001b[0m\u001b[0mintersections\u001b[0m \u001b[1;32mimport\u001b[0m \u001b[1;33m*\u001b[0m\u001b[1;33m\u001b[0m\u001b[1;33m\u001b[0m\u001b[0m\n\u001b[1;32m----> 4\u001b[1;33m \u001b[1;32mimport\u001b[0m \u001b[0mstart_walrus\u001b[0m \u001b[1;32mas\u001b[0m \u001b[0msw\u001b[0m\u001b[1;33m\u001b[0m\u001b[1;33m\u001b[0m\u001b[0m\n\u001b[0m",
      "\u001b[1;31mModuleNotFoundError\u001b[0m: No module named 'start_walrus'"
     ]
    }
   ],
   "source": [
    "from final_src.file_Reader import *\n",
    "from final_src.ACD_main import *\n",
    "from final_src.intersections import *\n",
    "import start_walrus as sw"
   ]
  },
  {
   "cell_type": "markdown",
   "metadata": {},
   "source": [
    "Чтобы использовать метод используйте функцию ...\n"
   ]
  },
  {
   "cell_type": "code",
   "execution_count": null,
   "metadata": {},
   "outputs": [],
   "source": [
    "sw.callWalrus('..\\\\results\\\\karate\\\\karate.graph')"
   ]
  },
  {
   "cell_type": "markdown",
   "metadata": {},
   "source": [
    "Функция `toWalrusSpace` считывается граф из файла `*.gml` (1 аргумент), взвешивает его и сохраняет результаты в файл `*.graph` (2 аргумент) под формат для Walrus.\n",
    "\n",
    "Функция `toWalrusSpace` считывается граф из файла `*.gml` (1 аргумент), взвешивает его и сохраняет результаты в файл `*.gml` (2 аргумент). В результате ребра остовного дерева будут помечены меткой \"Tree\", а остальные помечены как \"Not tree\".\n",
    "\n",
    "Если ваш граф сохранен в другом формате, то необходимо заменить функции `readGraph_gml` и `readGraphLabels_gml` из `final_src.file_Reader` на те, которые смогут считать граф в нужном виде.\n",
    "\n",
    "Аргумент `randomWeight` указывает на то, будет ли выбран вес матрицы случайно, или будет взвешен с помощью расстояния Amplified Commute Distance. По умолчанию это **False**."
   ]
  },
  {
   "cell_type": "code",
   "execution_count": 3,
   "metadata": {
    "scrolled": false
   },
   "outputs": [],
   "source": [
    "toWalrusSpace('..\\\\datasets\\\\karate\\\\karate.gml', '..\\\\results\\\\karate\\\\karate.graph', randomWeight = False)\n",
    "#toWalrusSpace('..\\\\datasets\\\\celegansneural\\\\celegansneural.gml', '..\\\\results\\\\celegansneural\\\\celegansneural.graph')\n",
    "#toWalrusSpace('..\\\\datasets\\\\football\\\\footballTSEinput_original.gml', '..\\\\results\\\\football\\\\football.graph')\n",
    "#toWalrusSpace('..\\\\datasets\\\\dolphin\\\\dolphins.gml', '..\\\\results\\\\dolphins\\\\dolphins.graph')\n",
    "#toWalrusSpace('..\\\\datasets\\\\Les_Miserables\\\\lesmis.gml', '..\\\\results\\\\lesmis\\\\lesmis.graph')\n",
    "#toGephiSpace('..\\\\datasets\\\\karate\\\\karate.gml', '..\\\\results\\\\karate\\\\karate.gml')\n",
    "#toGephiSpace('..\\\\datasets\\\\celegansneural\\\\celegansneural.gml', '..\\\\results\\\\celegansneural\\\\celegansneural.gml')\n",
    "#toGephiSpace('..\\\\datasets\\\\football\\\\footballTSEinput_original.gml', '..\\\\results\\\\football\\\\footballTSEinput_original.gml')\n",
    "#toGephiSpace('..\\\\datasets\\\\dolphin\\\\dolphins.gml', '..\\\\results\\\\dolphins\\\\dolphins.gml')\n",
    "#toGephiSpace('..\\\\datasets\\\\Les_Miserables\\\\lesmis.gml', '..\\\\results\\\\lesmis\\\\lesmis.gml')"
   ]
  },
  {
   "cell_type": "markdown",
   "metadata": {},
   "source": [
    "`startRandomAndCounting(gmlFile, graphFile, randomWeight = True, times = 1, num = 0)` - создает `times` случайно-взвешанных графов и считает минимальное число пересечений в каждом из них. `gmlFile` - ваш исходный граф. `graphFile` - где будет хранится каждый новый граф.\n",
    "\n",
    "Если `randomWeight` равен **False** то граф будет взвешен с помощью ACD.\n",
    "\n",
    "`addRecord(intersec, GraphName, path = '.\\\\bin\\\\stat.txt')` - Записывает результат в файл"
   ]
  },
  {
   "cell_type": "code",
   "execution_count": 6,
   "metadata": {},
   "outputs": [
    {
     "name": "stdout",
     "output_type": "stream",
     "text": [
      "#graph = 2\n",
      " alphaY = 179\n",
      " Done: 99.44%\n"
     ]
    }
   ],
   "source": [
    "implementation = startRandomAndCounting('..\\\\datasets\\\\karate\\\\karate.gml',\n",
    "                                            '..\\\\results\\\\karate\\\\karate-randomWeight.graph',False, 1, 1)\n",
    "for j in implementation:\n",
    "    addRecord(j, 'karate')"
   ]
  }
 ],
 "metadata": {
  "kernelspec": {
   "display_name": "Python 3",
   "language": "python",
   "name": "python3"
  },
  "language_info": {
   "codemirror_mode": {
    "name": "ipython",
    "version": 3
   },
   "file_extension": ".py",
   "mimetype": "text/x-python",
   "name": "python",
   "nbconvert_exporter": "python",
   "pygments_lexer": "ipython3",
   "version": "3.7.4"
  }
 },
 "nbformat": 4,
 "nbformat_minor": 2
}
