{
 "cells": [
  {
   "cell_type": "markdown",
   "metadata": {},
   "source": [
    "Вспомогательные библиотеки"
   ]
  },
  {
   "cell_type": "code",
   "execution_count": 2,
   "metadata": {},
   "outputs": [],
   "source": [
    "from final_src.file_Reader import *\n",
    "from final_src.ACD_main import *\n",
    "from final_src.intersections import *"
   ]
  },
  {
   "cell_type": "markdown",
   "metadata": {},
   "source": [
    "Функция `toWalrusSpace` считывается граф из файла `*.gml` (1 аргумент), взвешивает его и сохраняет результаты в файл `*.graph` (2 аргумент) под формат для Walrus.\n",
    "\n",
    "Функция `toWalrusSpace` считывается граф из файла `*.gml` (1 аргумент), взвешивает его и сохраняет результаты в файл `*.gml` (2 аргумент). В результате ребра остовного дерева будут помечены меткой \"Tree\", а остальные помечены как \"Not tree\".\n",
    "\n",
    "Если ваш граф сохранен в другом формате, то необходимо заменить функции `readGraph_gml` и `readGraphLabels_gml` из `final_src.file_Reader` на те, которые смогут считать граф в нужном виде.\n",
    "\n",
    "Аргумент `randomWeight` указывает на то, будет ли выбран вес матрицы случайно, или будет взвешен с помощью расстояния Amplified Commute Distance. По умолчанию это **False**."
   ]
  },
  {
   "cell_type": "code",
   "execution_count": 3,
   "metadata": {
    "scrolled": false
   },
   "outputs": [],
   "source": [
    "toWalrusSpace('..\\\\datasets\\\\karate\\\\karate.gml', '..\\\\results\\\\karate\\\\karate.graph', randomWeight = False)\n",
    "#toWalrusSpace('..\\\\datasets\\\\celegansneural\\\\celegansneural.gml', '..\\\\results\\\\celegansneural\\\\celegansneural.graph')\n",
    "#toWalrusSpace('..\\\\datasets\\\\football\\\\footballTSEinput_original.gml', '..\\\\results\\\\football\\\\football.graph')\n",
    "#toWalrusSpace('..\\\\datasets\\\\dolphin\\\\dolphins.gml', '..\\\\results\\\\dolphins\\\\dolphins.graph')\n",
    "#toWalrusSpace('..\\\\datasets\\\\Les_Miserables\\\\lesmis.gml', '..\\\\results\\\\lesmis\\\\lesmis.graph')\n",
    "#toGephiSpace('..\\\\datasets\\\\karate\\\\karate.gml', '..\\\\results\\\\karate\\\\karate.gml')\n",
    "#toGephiSpace('..\\\\datasets\\\\celegansneural\\\\celegansneural.gml', '..\\\\results\\\\celegansneural\\\\celegansneural.gml')\n",
    "#toGephiSpace('..\\\\datasets\\\\football\\\\footballTSEinput_original.gml', '..\\\\results\\\\football\\\\footballTSEinput_original.gml')\n",
    "#toGephiSpace('..\\\\datasets\\\\dolphin\\\\dolphins.gml', '..\\\\results\\\\dolphins\\\\dolphins.gml')\n",
    "#toGephiSpace('..\\\\datasets\\\\Les_Miserables\\\\lesmis.gml', '..\\\\results\\\\lesmis\\\\lesmis.gml')"
   ]
  },
  {
   "cell_type": "markdown",
   "metadata": {},
   "source": [
    "`startRandomAndCounting(gmlFile, graphFile, randomWeight = True, times = 1, num = 0)` - создает `times` случайно-взвешанных графов и считает минимальное число пересечений в каждом из них. `gmlFile` - ваш исходный граф. `graphFile` - где будет хранится каждый новый граф.\n",
    "\n",
    "Если `randomWeight` равен **False** то граф будет взвешен с помощью ACD.\n",
    "\n",
    "`addRecord(intersec, GraphName, path = '.\\\\bin\\\\stat.txt')` - Записывает результат в файл"
   ]
  },
  {
   "cell_type": "code",
   "execution_count": 6,
   "metadata": {},
   "outputs": [
    {
     "name": "stdout",
     "output_type": "stream",
     "text": [
      "#graph = 2\n",
      " alphaY = 179\n",
      " Done: 99.44%\n"
     ]
    }
   ],
   "source": [
    "implementation = startRandomAndCounting('..\\\\datasets\\\\karate\\\\karate.gml',\n",
    "                                            '..\\\\results\\\\karate\\\\karate-randomWeight.graph',False, 1, 1)\n",
    "for j in implementation:\n",
    "    addRecord(j, 'karate')"
   ]
  }
 ],
 "metadata": {
  "kernelspec": {
   "display_name": "Python 3",
   "language": "python",
   "name": "python3"
  },
  "language_info": {
   "codemirror_mode": {
    "name": "ipython",
    "version": 3
   },
   "file_extension": ".py",
   "mimetype": "text/x-python",
   "name": "python",
   "nbconvert_exporter": "python",
   "pygments_lexer": "ipython3",
   "version": "3.7.4"
  }
 },
 "nbformat": 4,
 "nbformat_minor": 2
}
