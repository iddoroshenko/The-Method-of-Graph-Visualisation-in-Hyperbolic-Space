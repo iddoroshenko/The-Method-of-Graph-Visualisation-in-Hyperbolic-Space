{
 "cells": [
  {
   "cell_type": "code",
   "execution_count": 1,
   "metadata": {},
   "outputs": [],
   "source": [
    "import numpy as np\n",
    "import math"
   ]
  },
  {
   "cell_type": "code",
   "execution_count": 2,
   "metadata": {},
   "outputs": [],
   "source": [
    "def readGEXF(stream):\n",
    "    file = open(stream, 'r')\n",
    "    lines = file.readlines()\n",
    "    N = 0\n",
    "    for line in lines:\n",
    "        if \"</node>\" in line:\n",
    "            N += 1\n",
    "    coord = []\n",
    "    for i in range(len(lines)):\n",
    "        if '</nodes>' in lines[i]:\n",
    "            break\n",
    "        if '<viz:position' in lines[i]:\n",
    "            a = float(lines[i].split('\\\"')[1])\n",
    "            b = float(lines[i].split('\\\"')[3])\n",
    "            coord.append((a,b))\n",
    "    file.close()\n",
    "    return coord"
   ]
  },
  {
   "cell_type": "code",
   "execution_count": 3,
   "metadata": {},
   "outputs": [],
   "source": [
    "def readGraph(stream):    \n",
    "    file = open(stream, 'r')\n",
    "    lines = file.readlines()\n",
    "    N = 0\n",
    "    for line in lines:\n",
    "        if \"node\" in line:\n",
    "            N += 1      \n",
    "    graph = np.zeros((N, N))  \n",
    "    for i in range(len(lines)):\n",
    "        if \"source\" in lines[i]:\n",
    "            a = int(lines[i].split(' ')[5])        \n",
    "            b = int(lines[i+1].split(' ')[5])\n",
    "            i += 1\n",
    "            graph[a-1][b-1] = 1\n",
    "            graph[b-1][a-1] = 1\n",
    "    file.close()        \n",
    "    return graph"
   ]
  },
  {
   "cell_type": "code",
   "execution_count": 4,
   "metadata": {},
   "outputs": [],
   "source": [
    "def listOfEdges(graph):\n",
    "    n = graph.shape[0]\n",
    "    lst = []\n",
    "    for i in range(n):\n",
    "        for j in range(i+1, n):\n",
    "            if graph[i][j] != 0:\n",
    "                lst.append((i,j))    \n",
    "    return lst"
   ]
  },
  {
   "cell_type": "code",
   "execution_count": 5,
   "metadata": {},
   "outputs": [],
   "source": [
    "def area(a, b, c):\n",
    "    return (b[0] - a[0]) * (c[1] - a[1]) - (b[1] - a[1]) * (c[0] - a[0])"
   ]
  },
  {
   "cell_type": "code",
   "execution_count": 6,
   "metadata": {},
   "outputs": [],
   "source": [
    "def intersect_1(a, b, c, d):\n",
    "    if a > b:\n",
    "        a,b = b,a\n",
    "    if c > d:\n",
    "        c,d = d,c\n",
    "    return max(a,c) <= min(b,d)"
   ]
  },
  {
   "cell_type": "code",
   "execution_count": 7,
   "metadata": {},
   "outputs": [],
   "source": [
    "def intersect(a, b, c, d):\n",
    "    return intersect_1 (a[0], b[0], c[0], d[0]) \\\n",
    "    and intersect_1 (a[1], b[1], c[1], d[1]) \\\n",
    "    and area(a,b,c) * area(a,b,d) <= 0 \\\n",
    "    and area(c,d,a) * area(c,d,b) <= 0"
   ]
  },
  {
   "cell_type": "code",
   "execution_count": 8,
   "metadata": {},
   "outputs": [],
   "source": [
    "def getNumOfIntersections(stream_GEXF, stream_GML):\n",
    "    coord = readGEXF(stream_GEXF)\n",
    "    edges = listOfEdges(readGraph(stream_GML))\n",
    "    numOfIntersections = 0\n",
    "    m = len(edges)\n",
    "    for i in range(m):\n",
    "        for j in range(i+1, m):\n",
    "            a = edges[i][0]\n",
    "            b = edges[i][1]\n",
    "            c = edges[j][0]\n",
    "            d = edges[j][1]\n",
    "            a = coord[a]\n",
    "            b = coord[b]\n",
    "            c = coord[c]\n",
    "            d = coord[d]\n",
    "            #print(intersect(a, b, c, d), edges[i][0], edges[i][1], edges[j][0], edges[j][1])\n",
    "            if intersect(a, b, c, d) == True and not edges[i][0] == edges[j][0] and not edges[i][0] == edges[j][1] \\\n",
    "            and not edges[i][1] == edges[j][0] and not edges[i][1] == edges[j][1]:\n",
    "                numOfIntersections+=1\n",
    "    return numOfIntersections"
   ]
  },
  {
   "cell_type": "code",
   "execution_count": 9,
   "metadata": {},
   "outputs": [
    {
     "name": "stdout",
     "output_type": "stream",
     "text": [
      "58 95554 235 4327 765\n"
     ]
    }
   ],
   "source": [
    "print(getNumOfIntersections('..\\\\results\\\\karate\\\\karateForceAtlas.gexf', '..\\\\datasets\\\\karate\\\\karate.gml')\n",
    "    ,getNumOfIntersections('..\\\\results\\\\celegansneural\\\\celegansneuralForceAtlas.gexf', '..\\\\datasets\\\\celegansneural\\\\celegansneural.gml')\n",
    "    ,getNumOfIntersections('..\\\\results\\\\dolphins\\\\dolphinsForceAtlas.gexf', '..\\\\datasets\\\\dolphin\\\\dolphins.gml')\n",
    "    ,getNumOfIntersections('..\\\\results\\\\football\\\\footballForceAtlas.gexf', '..\\\\datasets\\\\football\\\\footballTSEinput_original.gml')\n",
    "    ,getNumOfIntersections('..\\\\results\\\\lesmis\\\\lesmisForceAtlas.gexf', '..\\\\datasets\\\\Les_Miserables\\\\lesmis.gml')\n",
    "     )"
   ]
  }
 ],
 "metadata": {
  "kernelspec": {
   "display_name": "Python 3",
   "language": "python",
   "name": "python3"
  },
  "language_info": {
   "codemirror_mode": {
    "name": "ipython",
    "version": 3
   },
   "file_extension": ".py",
   "mimetype": "text/x-python",
   "name": "python",
   "nbconvert_exporter": "python",
   "pygments_lexer": "ipython3",
   "version": "3.7.4"
  }
 },
 "nbformat": 4,
 "nbformat_minor": 2
}
